{
 "cells": [
  {
   "cell_type": "code",
   "execution_count": 9,
   "metadata": {},
   "outputs": [
    {
     "name": "stdout",
     "output_type": "stream",
     "text": [
      "Requirement already satisfied: numpy in c:\\users\\rifqi\\appdata\\local\\programs\\python\\python310\\lib\\site-packages (1.23.4)\n",
      "Note: you may need to restart the kernel to use updated packages.\n"
     ]
    },
    {
     "name": "stderr",
     "output_type": "stream",
     "text": [
      "\n",
      "[notice] A new release of pip is available: 23.2 -> 24.0\n",
      "[notice] To update, run: python.exe -m pip install --upgrade pip\n"
     ]
    }
   ],
   "source": [
    "pip install numpy"
   ]
  },
  {
   "cell_type": "code",
   "execution_count": 10,
   "metadata": {},
   "outputs": [
    {
     "ename": "AttributeError",
     "evalue": "Module 'numpy.core' has no attribute 'numerictypes'",
     "output_type": "error",
     "traceback": [
      "\u001b[1;31m---------------------------------------------------------------------------\u001b[0m",
      "\u001b[1;31mAttributeError\u001b[0m                            Traceback (most recent call last)",
      "Cell \u001b[1;32mIn [10], line 1\u001b[0m\n\u001b[1;32m----> 1\u001b[0m \u001b[38;5;28;01mimport\u001b[39;00m \u001b[38;5;21;01mnumpy\u001b[39;00m \u001b[38;5;28;01mas\u001b[39;00m \u001b[38;5;21;01mnp\u001b[39;00m\n\u001b[0;32m      2\u001b[0m \u001b[38;5;28;01mimport\u001b[39;00m \u001b[38;5;21;01mpandas\u001b[39;00m \u001b[38;5;28;01mas\u001b[39;00m \u001b[38;5;21;01mpd\u001b[39;00m\n\u001b[0;32m      3\u001b[0m \u001b[38;5;28;01mimport\u001b[39;00m \u001b[38;5;21;01mmatplotlib\u001b[39;00m\u001b[38;5;21;01m.\u001b[39;00m\u001b[38;5;21;01mpyplot\u001b[39;00m \u001b[38;5;28;01mas\u001b[39;00m \u001b[38;5;21;01mplt\u001b[39;00m\n",
      "File \u001b[1;32mc:\\Users\\rifqi\\AppData\\Local\\Programs\\Python\\Python310\\lib\\site-packages\\numpy\\__init__.py:191\u001b[0m\n\u001b[0;32m    184\u001b[0m __deprecated_attrs__\u001b[38;5;241m.\u001b[39mupdate({\n\u001b[0;32m    185\u001b[0m     n: (\u001b[38;5;28mgetattr\u001b[39m(_builtins, n), _msg\u001b[38;5;241m.\u001b[39mformat(n\u001b[38;5;241m=\u001b[39mn, extended_msg\u001b[38;5;241m=\u001b[39mextended_msg))\n\u001b[0;32m    186\u001b[0m     \u001b[38;5;28;01mfor\u001b[39;00m n, extended_msg \u001b[38;5;129;01min\u001b[39;00m _type_info\n\u001b[0;32m    187\u001b[0m })\n\u001b[0;32m    189\u001b[0m \u001b[38;5;66;03m# Numpy 1.20.0, 2020-10-19\u001b[39;00m\n\u001b[0;32m    190\u001b[0m __deprecated_attrs__[\u001b[38;5;124m\"\u001b[39m\u001b[38;5;124mtypeDict\u001b[39m\u001b[38;5;124m\"\u001b[39m] \u001b[38;5;241m=\u001b[39m (\n\u001b[1;32m--> 191\u001b[0m     \u001b[43mcore\u001b[49m\u001b[38;5;241;43m.\u001b[39;49m\u001b[43mnumerictypes\u001b[49m\u001b[38;5;241m.\u001b[39mtypeDict,\n\u001b[0;32m    192\u001b[0m     \u001b[38;5;124m\"\u001b[39m\u001b[38;5;124m`np.typeDict` is a deprecated alias for `np.sctypeDict`.\u001b[39m\u001b[38;5;124m\"\u001b[39m\n\u001b[0;32m    193\u001b[0m )\n\u001b[0;32m    195\u001b[0m \u001b[38;5;66;03m# NumPy 1.22, 2021-10-20\u001b[39;00m\n\u001b[0;32m    196\u001b[0m __deprecated_attrs__[\u001b[38;5;124m\"\u001b[39m\u001b[38;5;124mMachAr\u001b[39m\u001b[38;5;124m\"\u001b[39m] \u001b[38;5;241m=\u001b[39m (\n\u001b[0;32m    197\u001b[0m     core\u001b[38;5;241m.\u001b[39m_machar\u001b[38;5;241m.\u001b[39mMachAr,\n\u001b[0;32m    198\u001b[0m     \u001b[38;5;124m\"\u001b[39m\u001b[38;5;124m`np.MachAr` is deprecated (NumPy 1.22).\u001b[39m\u001b[38;5;124m\"\u001b[39m\n\u001b[0;32m    199\u001b[0m )\n",
      "File \u001b[1;32mc:\\Users\\rifqi\\AppData\\Local\\Programs\\Python\\Python310\\lib\\site-packages\\numpy\\core\\__init__.py:161\u001b[0m, in \u001b[0;36m__getattr__\u001b[1;34m(name)\u001b[0m\n\u001b[0;32m    156\u001b[0m     warnings\u001b[38;5;241m.\u001b[39mwarn(\n\u001b[0;32m    157\u001b[0m         \u001b[38;5;124m\"\u001b[39m\u001b[38;5;124mThe `np.core.machar` module is deprecated (NumPy 1.22)\u001b[39m\u001b[38;5;124m\"\u001b[39m,\n\u001b[0;32m    158\u001b[0m         \u001b[38;5;167;01mDeprecationWarning\u001b[39;00m, stacklevel\u001b[38;5;241m=\u001b[39m\u001b[38;5;241m2\u001b[39m,\n\u001b[0;32m    159\u001b[0m     )\n\u001b[0;32m    160\u001b[0m     \u001b[38;5;28;01mreturn\u001b[39;00m _machar\n\u001b[1;32m--> 161\u001b[0m \u001b[38;5;28;01mraise\u001b[39;00m \u001b[38;5;167;01mAttributeError\u001b[39;00m(\u001b[38;5;124mf\u001b[39m\u001b[38;5;124m\"\u001b[39m\u001b[38;5;124mModule \u001b[39m\u001b[38;5;132;01m{\u001b[39;00m\u001b[38;5;18m__name__\u001b[39m\u001b[38;5;132;01m!r}\u001b[39;00m\u001b[38;5;124m has no attribute \u001b[39m\u001b[38;5;132;01m{\u001b[39;00mname\u001b[38;5;132;01m!r}\u001b[39;00m\u001b[38;5;124m\"\u001b[39m)\n",
      "\u001b[1;31mAttributeError\u001b[0m: Module 'numpy.core' has no attribute 'numerictypes'"
     ]
    }
   ],
   "source": [
    "import numpy as np\n",
    "import pandas as pd\n",
    "import matplotlib.pyplot as plt\n",
    "from sklearn.cluster import DBSCAN\n",
    "from sklearn.preprocessing import StandardScaler\n",
    "from sklearn.metrics import silhouette_score\n",
    "from sklearn.compose import ColumnTransformer\n",
    "from sklearn.pipeline import Pipeline\n",
    "from sklearn.impute import SimpleImputer\n",
    "from sklearn.preprocessing import StandardScaler, OneHotEncoder\n",
    "\n"
   ]
  },
  {
   "cell_type": "code",
   "execution_count": null,
   "metadata": {},
   "outputs": [
    {
     "name": "stdout",
     "output_type": "stream",
     "text": [
      "     CUST_ID      BALANCE  BALANCE_FREQUENCY  PURCHASES  ONEOFF_PURCHASES  \\\n",
      "0     C10001    40.900749           0.818182      95.40              0.00   \n",
      "1     C10002  3202.467416           0.909091       0.00              0.00   \n",
      "2     C10003  2495.148862           1.000000     773.17            773.17   \n",
      "3     C10004  1666.670542           0.636364    1499.00           1499.00   \n",
      "4     C10005   817.714335           1.000000      16.00             16.00   \n",
      "...      ...          ...                ...        ...               ...   \n",
      "8945  C19186    28.493517           1.000000     291.12              0.00   \n",
      "8946  C19187    19.183215           1.000000     300.00              0.00   \n",
      "8947  C19188    23.398673           0.833333     144.40              0.00   \n",
      "8948  C19189    13.457564           0.833333       0.00              0.00   \n",
      "8949  C19190   372.708075           0.666667    1093.25           1093.25   \n",
      "\n",
      "      INSTALLMENTS_PURCHASES  CASH_ADVANCE  PURCHASES_FREQUENCY  \\\n",
      "0                      95.40      0.000000             0.166667   \n",
      "1                       0.00   6442.945483             0.000000   \n",
      "2                       0.00      0.000000             1.000000   \n",
      "3                       0.00    205.788017             0.083333   \n",
      "4                       0.00      0.000000             0.083333   \n",
      "...                      ...           ...                  ...   \n",
      "8945                  291.12      0.000000             1.000000   \n",
      "8946                  300.00      0.000000             1.000000   \n",
      "8947                  144.40      0.000000             0.833333   \n",
      "8948                    0.00     36.558778             0.000000   \n",
      "8949                    0.00    127.040008             0.666667   \n",
      "\n",
      "      ONEOFF_PURCHASES_FREQUENCY  PURCHASES_INSTALLMENTS_FREQUENCY  \\\n",
      "0                       0.000000                          0.083333   \n",
      "1                       0.000000                          0.000000   \n",
      "2                       1.000000                          0.000000   \n",
      "3                       0.083333                          0.000000   \n",
      "4                       0.083333                          0.000000   \n",
      "...                          ...                               ...   \n",
      "8945                    0.000000                          0.833333   \n",
      "8946                    0.000000                          0.833333   \n",
      "8947                    0.000000                          0.666667   \n",
      "8948                    0.000000                          0.000000   \n",
      "8949                    0.666667                          0.000000   \n",
      "\n",
      "      CASH_ADVANCE_FREQUENCY  CASH_ADVANCE_TRX  PURCHASES_TRX  CREDIT_LIMIT  \\\n",
      "0                   0.000000                 0              2        1000.0   \n",
      "1                   0.250000                 4              0        7000.0   \n",
      "2                   0.000000                 0             12        7500.0   \n",
      "3                   0.083333                 1              1        7500.0   \n",
      "4                   0.000000                 0              1        1200.0   \n",
      "...                      ...               ...            ...           ...   \n",
      "8945                0.000000                 0              6        1000.0   \n",
      "8946                0.000000                 0              6        1000.0   \n",
      "8947                0.000000                 0              5        1000.0   \n",
      "8948                0.166667                 2              0         500.0   \n",
      "8949                0.333333                 2             23        1200.0   \n",
      "\n",
      "         PAYMENTS  MINIMUM_PAYMENTS  PRC_FULL_PAYMENT  TENURE  \n",
      "0      201.802084        139.509787          0.000000      12  \n",
      "1     4103.032597       1072.340217          0.222222      12  \n",
      "2      622.066742        627.284787          0.000000      12  \n",
      "3        0.000000               NaN          0.000000      12  \n",
      "4      678.334763        244.791237          0.000000      12  \n",
      "...           ...               ...               ...     ...  \n",
      "8945   325.594462         48.886365          0.500000       6  \n",
      "8946   275.861322               NaN          0.000000       6  \n",
      "8947    81.270775         82.418369          0.250000       6  \n",
      "8948    52.549959         55.755628          0.250000       6  \n",
      "8949    63.165404         88.288956          0.000000       6  \n",
      "\n",
      "[8950 rows x 18 columns]\n"
     ]
    }
   ],
   "source": [
    "dataset_path = 'dataset_anomali.csv'\n",
    "data = pd.read_csv(dataset_path)\n",
    "\n",
    "print(data)"
   ]
  },
  {
   "cell_type": "code",
   "execution_count": null,
   "metadata": {},
   "outputs": [
    {
     "name": "stdout",
     "output_type": "stream",
     "text": [
      "Best Solution: {'MinPts': 3.6, 'Eps': 1.9011047307539504, 'nClusters': 2}\n",
      "Best Fitness: 0.8693743384528552\n"
     ]
    }
   ],
   "source": [
    "# Parameters for DE and DBSCAN optimization\n",
    "MaxIt = 10  # Max number of iterations for DE (lowered for demonstration)\n",
    "nPop = 10   # Population size\n",
    "nVar = 2    # Number of decision variables (MinPts and Eps)\n",
    "bounds = [(2, 20), (0.1, 2)]  # Bounds for MinPts and Eps\n",
    "\n",
    "# Initialize the population\n",
    "Population = np.zeros((nPop, nVar))\n",
    "for i in range(nPop):\n",
    "    Population[i, :] = [np.random.randint(bounds[0][0], bounds[0][1]),  # MinPts\n",
    "                        np.random.uniform(bounds[1][0], bounds[1][1])]  # Eps\n",
    "\n",
    "# Fitness function\n",
    "def fitness_function(individual, data):\n",
    "    scaler = StandardScaler()\n",
    "    scaled_data = scaler.fit_transform(data[['BALANCE', 'BALANCE_FREQUENCY', 'PURCHASES', 'ONEOFF_PURCHASES']])\n",
    "    dbscan = DBSCAN(eps=individual[1], min_samples=int(individual[0])).fit(scaled_data)\n",
    "    labels = dbscan.labels_\n",
    "    n_clusters = len(set(labels)) - (1 if -1 in labels else 0)\n",
    "    if n_clusters > 1:\n",
    "        silhouette_avg = silhouette_score(scaled_data, labels)\n",
    "    else:\n",
    "        silhouette_avg = -1\n",
    "    return silhouette_avg, {'MinPts': individual[0], 'Eps': individual[1], 'nClusters': n_clusters}\n",
    "\n",
    "# DE operations\n",
    "def mutate(individuals, target_idx, F=0.8):\n",
    "    idxs = [idx for idx in range(len(individuals)) if idx != target_idx]\n",
    "    a, b, c = np.random.choice(idxs, 3, replace=False)\n",
    "    mutant = individuals[a] + F * (individuals[b] - individuals[c])\n",
    "    return np.clip(mutant, [bounds[0][0], bounds[1][0]], [bounds[0][1], bounds[1][1]])\n",
    "\n",
    "def crossover(target, mutant, CR=0.7):\n",
    "    cross_points = np.random.rand(nVar) < CR\n",
    "    trial = np.where(cross_points, mutant, target)\n",
    "    return trial\n",
    "\n",
    "def select(individual, trial, data):\n",
    "    fitness_ind, _ = fitness_function(individual, data)\n",
    "    fitness_trial, _ = fitness_function(trial, data)\n",
    "    return trial if fitness_trial > fitness_ind else individual\n",
    "\n",
    "# DE main loop\n",
    "best_sol = None\n",
    "best_fitness = -np.inf\n",
    "\n",
    "for it in range(MaxIt):\n",
    "    for i in range(nPop):\n",
    "        target = Population[i]\n",
    "        mutant = mutate(Population, i)\n",
    "        trial = crossover(target, mutant)\n",
    "        selected = select(target, trial, data)\n",
    "        Population[i] = selected\n",
    "\n",
    "        fitness, sol = fitness_function(selected, data)\n",
    "        if fitness > best_fitness:\n",
    "            best_fitness = fitness\n",
    "            best_sol = sol\n",
    "\n",
    "# Output the best solution found\n",
    "print(\"Best Solution:\", best_sol)\n",
    "print(\"Best Fitness:\", best_fitness)"
   ]
  },
  {
   "cell_type": "code",
   "execution_count": null,
   "metadata": {},
   "outputs": [
    {
     "ename": "KeyboardInterrupt",
     "evalue": "",
     "output_type": "error",
     "traceback": [
      "\u001b[1;31m---------------------------------------------------------------------------\u001b[0m",
      "\u001b[1;31mKeyboardInterrupt\u001b[0m                         Traceback (most recent call last)",
      "Cell \u001b[1;32mIn [1], line 1\u001b[0m\n\u001b[1;32m----> 1\u001b[0m \u001b[38;5;28;01mimport\u001b[39;00m \u001b[38;5;21;01mmatplotlib\u001b[39;00m\u001b[38;5;21;01m.\u001b[39;00m\u001b[38;5;21;01mpyplot\u001b[39;00m \u001b[38;5;28;01mas\u001b[39;00m \u001b[38;5;21;01mplt\u001b[39;00m\n\u001b[0;32m      3\u001b[0m \u001b[38;5;66;03m# Use the best parameters from the previous test as an example\u001b[39;00m\n\u001b[0;32m      4\u001b[0m MinPts \u001b[38;5;241m=\u001b[39m best_sol[\u001b[38;5;241m0\u001b[39m]\n",
      "File \u001b[1;32mc:\\Users\\rifqi\\AppData\\Local\\Programs\\Python\\Python310\\lib\\site-packages\\matplotlib\\__init__.py:169\u001b[0m\n\u001b[0;32m    166\u001b[0m \u001b[38;5;28;01mimport\u001b[39;00m \u001b[38;5;21;01mtempfile\u001b[39;00m\n\u001b[0;32m    167\u001b[0m \u001b[38;5;28;01mimport\u001b[39;00m \u001b[38;5;21;01mwarnings\u001b[39;00m\n\u001b[1;32m--> 169\u001b[0m \u001b[38;5;28;01mimport\u001b[39;00m \u001b[38;5;21;01mnumpy\u001b[39;00m\n\u001b[0;32m    170\u001b[0m \u001b[38;5;28;01mfrom\u001b[39;00m \u001b[38;5;21;01mpackaging\u001b[39;00m\u001b[38;5;21;01m.\u001b[39;00m\u001b[38;5;21;01mversion\u001b[39;00m \u001b[38;5;28;01mimport\u001b[39;00m parse \u001b[38;5;28;01mas\u001b[39;00m parse_version\n\u001b[0;32m    172\u001b[0m \u001b[38;5;66;03m# cbook must import matplotlib only within function\u001b[39;00m\n\u001b[0;32m    173\u001b[0m \u001b[38;5;66;03m# definitions, so it is safe to import from it here.\u001b[39;00m\n",
      "File \u001b[1;32mc:\\Users\\rifqi\\AppData\\Local\\Programs\\Python\\Python310\\lib\\site-packages\\numpy\\__init__.py:140\u001b[0m\n\u001b[0;32m    137\u001b[0m \u001b[38;5;66;03m# Allow distributors to run custom init code\u001b[39;00m\n\u001b[0;32m    138\u001b[0m \u001b[38;5;28;01mfrom\u001b[39;00m \u001b[38;5;21;01m.\u001b[39;00m \u001b[38;5;28;01mimport\u001b[39;00m _distributor_init\n\u001b[1;32m--> 140\u001b[0m \u001b[38;5;28;01mfrom\u001b[39;00m \u001b[38;5;21;01m.\u001b[39;00m \u001b[38;5;28;01mimport\u001b[39;00m core\n\u001b[0;32m    141\u001b[0m \u001b[38;5;28;01mfrom\u001b[39;00m \u001b[38;5;21;01m.\u001b[39;00m\u001b[38;5;21;01mcore\u001b[39;00m \u001b[38;5;28;01mimport\u001b[39;00m \u001b[38;5;241m*\u001b[39m\n\u001b[0;32m    142\u001b[0m \u001b[38;5;28;01mfrom\u001b[39;00m \u001b[38;5;21;01m.\u001b[39;00m \u001b[38;5;28;01mimport\u001b[39;00m compat\n",
      "File \u001b[1;32mc:\\Users\\rifqi\\AppData\\Local\\Programs\\Python\\Python310\\lib\\site-packages\\numpy\\core\\__init__.py:73\u001b[0m\n\u001b[0;32m     71\u001b[0m \u001b[38;5;28;01mfrom\u001b[39;00m \u001b[38;5;21;01m.\u001b[39;00m \u001b[38;5;28;01mimport\u001b[39;00m numerictypes \u001b[38;5;28;01mas\u001b[39;00m nt\n\u001b[0;32m     72\u001b[0m multiarray\u001b[38;5;241m.\u001b[39mset_typeDict(nt\u001b[38;5;241m.\u001b[39msctypeDict)\n\u001b[1;32m---> 73\u001b[0m \u001b[38;5;28;01mfrom\u001b[39;00m \u001b[38;5;21;01m.\u001b[39;00m \u001b[38;5;28;01mimport\u001b[39;00m numeric\n\u001b[0;32m     74\u001b[0m \u001b[38;5;28;01mfrom\u001b[39;00m \u001b[38;5;21;01m.\u001b[39;00m\u001b[38;5;21;01mnumeric\u001b[39;00m \u001b[38;5;28;01mimport\u001b[39;00m \u001b[38;5;241m*\u001b[39m\n\u001b[0;32m     75\u001b[0m \u001b[38;5;28;01mfrom\u001b[39;00m \u001b[38;5;21;01m.\u001b[39;00m \u001b[38;5;28;01mimport\u001b[39;00m fromnumeric\n",
      "File \u001b[1;32mc:\\Users\\rifqi\\AppData\\Local\\Programs\\Python\\Python310\\lib\\site-packages\\numpy\\core\\numeric.py:2545\u001b[0m\n\u001b[0;32m   2543\u001b[0m \u001b[38;5;28;01mfrom\u001b[39;00m \u001b[38;5;21;01m.\u001b[39;00m \u001b[38;5;28;01mimport\u001b[39;00m arrayprint\n\u001b[0;32m   2544\u001b[0m \u001b[38;5;28;01mfrom\u001b[39;00m \u001b[38;5;21;01m.\u001b[39;00m\u001b[38;5;21;01marrayprint\u001b[39;00m \u001b[38;5;28;01mimport\u001b[39;00m \u001b[38;5;241m*\u001b[39m\n\u001b[1;32m-> 2545\u001b[0m \u001b[38;5;28;01mfrom\u001b[39;00m \u001b[38;5;21;01m.\u001b[39;00m \u001b[38;5;28;01mimport\u001b[39;00m _asarray\n\u001b[0;32m   2546\u001b[0m \u001b[38;5;28;01mfrom\u001b[39;00m \u001b[38;5;21;01m.\u001b[39;00m\u001b[38;5;21;01m_asarray\u001b[39;00m \u001b[38;5;28;01mimport\u001b[39;00m \u001b[38;5;241m*\u001b[39m\n\u001b[0;32m   2547\u001b[0m \u001b[38;5;28;01mfrom\u001b[39;00m \u001b[38;5;21;01m.\u001b[39;00m \u001b[38;5;28;01mimport\u001b[39;00m _ufunc_config\n",
      "File \u001b[1;32m<frozen importlib._bootstrap>:1027\u001b[0m, in \u001b[0;36m_find_and_load\u001b[1;34m(name, import_)\u001b[0m\n",
      "File \u001b[1;32m<frozen importlib._bootstrap>:1002\u001b[0m, in \u001b[0;36m_find_and_load_unlocked\u001b[1;34m(name, import_)\u001b[0m\n",
      "File \u001b[1;32m<frozen importlib._bootstrap>:945\u001b[0m, in \u001b[0;36m_find_spec\u001b[1;34m(name, path, target)\u001b[0m\n",
      "File \u001b[1;32m<frozen importlib._bootstrap_external>:1439\u001b[0m, in \u001b[0;36mfind_spec\u001b[1;34m(cls, fullname, path, target)\u001b[0m\n",
      "File \u001b[1;32m<frozen importlib._bootstrap_external>:1411\u001b[0m, in \u001b[0;36m_get_spec\u001b[1;34m(cls, fullname, path, target)\u001b[0m\n",
      "File \u001b[1;32m<frozen importlib._bootstrap_external>:1577\u001b[0m, in \u001b[0;36mfind_spec\u001b[1;34m(self, fullname, target)\u001b[0m\n",
      "File \u001b[1;32m<frozen importlib._bootstrap_external>:161\u001b[0m, in \u001b[0;36m_path_isfile\u001b[1;34m(path)\u001b[0m\n",
      "File \u001b[1;32m<frozen importlib._bootstrap_external>:153\u001b[0m, in \u001b[0;36m_path_is_mode_type\u001b[1;34m(path, mode)\u001b[0m\n",
      "File \u001b[1;32m<frozen importlib._bootstrap_external>:147\u001b[0m, in \u001b[0;36m_path_stat\u001b[1;34m(path)\u001b[0m\n",
      "\u001b[1;31mKeyboardInterrupt\u001b[0m: "
     ]
    }
   ],
   "source": [
    "import matplotlib.pyplot as plt\n",
    "\n",
    "# Use the best parameters from the previous test as an example\n",
    "MinPts = best_sol[0]\n",
    "Eps = best_sol[1]\n",
    "\n",
    "# Run DBSCAN with these parameters on the cleaned dataset\n",
    "dbscan = DBSCAN(eps=Eps, min_samples=int(MinPts))\n",
    "y_pred = dbscan.fit_predict(data[['BALANCE', 'BALANCE_FREQUENCY', 'PURCHASES', 'ONEOFF_PURCHASES']])\n",
    "\n",
    "# Plot the clusters\n",
    "plt.figure(figsize=(10, 6))\n",
    "plt.scatter(data['BALANCE'], data['BALANCE_FREQUENCY'], c=y_pred, cmap='viridis', marker='o', s=50, alpha=0.6)\n",
    "plt.title('DBSCAN Clustering')\n",
    "plt.xlabel('BALANCE')\n",
    "plt.ylabel('BALANCE_FREQUENCY')\n",
    "plt.colorbar(label='Cluster Label')\n",
    "plt.show()"
   ]
  },
  {
   "cell_type": "code",
   "execution_count": null,
   "metadata": {},
   "outputs": [],
   "source": [
    "# Filter out anomalies from the dataset\n",
    "filtered_dataset = data[~anomalies]\n",
    "\n",
    "# Plotting the clusters after removing anomalies\n",
    "plt.figure(figsize=(10, 6))\n",
    "# Since the anomalies have been removed, all remaining data points belong to some cluster\n",
    "plt.scatter(filtered_dataset['Longitude'], filtered_dataset['Latitude'], c='blue', marker='o', s=50, alpha=0.6, label='Clustered Data')\n",
    "plt.title('DBSCAN Clustering without Anomalies')\n",
    "plt.xlabel('Longitude')\n",
    "plt.ylabel('Latitude')\n",
    "plt.legend()\n",
    "plt.show()"
   ]
  },
  {
   "cell_type": "code",
   "execution_count": null,
   "metadata": {},
   "outputs": [
    {
     "data": {
      "text/plain": [
       "(0.6526256983240224, {'MinPts': 3.6, 'Eps': 10, 'Anomalies': 5841})"
      ]
     },
     "execution_count": 37,
     "metadata": {},
     "output_type": "execute_result"
    }
   ],
   "source": [
    "def fitness_anomaly_detection(position, data):\n",
    "    # Extract MinPts and Eps from the position\n",
    "    MinPts, Eps = position\n",
    "\n",
    "    # Run DBSCAN\n",
    "    dbscan = DBSCAN(eps=Eps, min_samples=int(MinPts))\n",
    "    labels = dbscan.fit_predict(data[['BALANCE', 'BALANCE_FREQUENCY', 'PURCHASES', 'ONEOFF_PURCHASES']])\n",
    "\n",
    "    # Identify anomalies\n",
    "    anomalies = labels == -1\n",
    "    n_anomalies = np.sum(anomalies)\n",
    "\n",
    "    # Calculate a simple fitness metric: proportion of anomalies detected\n",
    "    # Note: This is a placeholder metric. In practice, the fitness function should\n",
    "    # be tailored to the specific requirements of anomaly detection for the dataset.\n",
    "    fitness_value = n_anomalies / len(labels)\n",
    "\n",
    "    return fitness_value, {'MinPts': MinPts, 'Eps': Eps, 'Anomalies': n_anomalies}\n",
    "\n",
    "# Example: Test the fitness function with initial parameters\n",
    "test_position = [MinPts, Eps]  # Example parameters (MinPts, Eps)\n",
    "fitness_value, details = fitness_anomaly_detection(test_position, data)\n",
    "fitness_value, details"
   ]
  },
  {
   "cell_type": "code",
   "execution_count": null,
   "metadata": {},
   "outputs": [],
   "source": []
  }
 ],
 "metadata": {
  "kernelspec": {
   "display_name": "Python 3",
   "language": "python",
   "name": "python3"
  },
  "language_info": {
   "codemirror_mode": {
    "name": "ipython",
    "version": 3
   },
   "file_extension": ".py",
   "mimetype": "text/x-python",
   "name": "python",
   "nbconvert_exporter": "python",
   "pygments_lexer": "ipython3",
   "version": "3.10.5"
  }
 },
 "nbformat": 4,
 "nbformat_minor": 2
}
